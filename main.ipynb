{
 "cells": [
  {
   "cell_type": "markdown",
   "id": "36659a21",
   "metadata": {},
   "source": []
  },
  {
   "cell_type": "markdown",
   "id": "2f6a78ee",
   "metadata": {},
   "source": [
    "# Analyzing Amazon Bestsellers"
   ]
  },
  {
   "cell_type": "markdown",
   "id": "cd4bb12e",
   "metadata": {},
   "source": [
    "Amazon releases hundreds and thousands of paperback and ebooks daily, with over 50,000 ebooks getting released every month. And as of March 2023, there are no more than 12 million ebooks sold on Amazon. In the midst of this chaotic supply of words and ideas, many readers and intrigued customers can find it hard to select a book. The Amazon Bestsellers section highlights books based on various factors like the amount of sales, the frequency of sales per a certain time period, best sellers rank, etc."
   ]
  },
  {
   "cell_type": "markdown",
   "id": "d06d63e8",
   "metadata": {},
   "source": [
    "But as time passes on, the world changes, and so do things that intrigue customers. Analyzing how this data changes can aid in market researcu, competetive analysis, trend analysis and price analysis to name a few. "
   ]
  },
  {
   "cell_type": "markdown",
   "id": "15d8ed1f",
   "metadata": {},
   "source": [
    "---"
   ]
  },
  {
   "cell_type": "markdown",
   "id": "6f6ec114",
   "metadata": {},
   "source": [
    "## About the Dataset"
   ]
  },
  {
   "cell_type": "markdown",
   "id": "dace560c",
   "metadata": {},
   "source": [
    "This dataset on Amazon's Top 50 bestselling books from 2009 to 2019. Contains 550 books, which has been categorized into fiction and non-fiction using Goodreads. "
   ]
  },
  {
   "cell_type": "markdown",
   "id": "59014443",
   "metadata": {},
   "source": [
    "The dataset contains the following information for each instance:\n",
    "\n",
    "- Title: The title of the book\n",
    "- Author: The name of the person who wrote the book\n",
    "- Rating: The average customer rating out of 5\n",
    "- Reviews: The total amount of customer reviews\n",
    "- Price: The price of the book in USD, rounded to the nearest dollar\n",
    "- Publication Year: The year the book was published\n",
    "- Genre: The genre of the book"
   ]
  },
  {
   "cell_type": "code",
   "execution_count": null,
   "id": "dac13513",
   "metadata": {},
   "outputs": [],
   "source": [
    "##import statements\n",
    "import pandas as pd\n",
    "import numpy as np\n",
    "import matplotlib.pyplot as plt"
   ]
  },
  {
   "cell_type": "code",
   "execution_count": 8,
   "id": "33bde3de",
   "metadata": {},
   "outputs": [],
   "source": [
    "##loading the data \n",
    "df = pd.read_csv(\"bestsellers.csv\")\n",
    "df.drop_duplicates(inplace=True)\n",
    "df.rename(columns={\"Name\": \"Title\", \"Year\": \"Publication Year\", \"User Rating\": \"Rating\"}, inplace=True)"
   ]
  },
  {
   "cell_type": "code",
   "execution_count": 10,
   "id": "70ce095a",
   "metadata": {},
   "outputs": [],
   "source": [
    "#changing the \"Price\" column to float\n",
    "df[\"Price\"] = df[\"Price\"].astype(float)"
   ]
  },
  {
   "cell_type": "code",
   "execution_count": 12,
   "id": "98a7c4c9",
   "metadata": {},
   "outputs": [
    {
     "data": {
      "text/html": [
       "<div>\n",
       "<style scoped>\n",
       "    .dataframe tbody tr th:only-of-type {\n",
       "        vertical-align: middle;\n",
       "    }\n",
       "\n",
       "    .dataframe tbody tr th {\n",
       "        vertical-align: top;\n",
       "    }\n",
       "\n",
       "    .dataframe thead th {\n",
       "        text-align: right;\n",
       "    }\n",
       "</style>\n",
       "<table border=\"1\" class=\"dataframe\">\n",
       "  <thead>\n",
       "    <tr style=\"text-align: right;\">\n",
       "      <th></th>\n",
       "      <th>Title</th>\n",
       "      <th>Author</th>\n",
       "      <th>Rating</th>\n",
       "      <th>Reviews</th>\n",
       "      <th>Price</th>\n",
       "      <th>Publication Year</th>\n",
       "      <th>Genre</th>\n",
       "    </tr>\n",
       "  </thead>\n",
       "  <tbody>\n",
       "    <tr>\n",
       "      <th>0</th>\n",
       "      <td>10-Day Green Smoothie Cleanse</td>\n",
       "      <td>JJ Smith</td>\n",
       "      <td>4.7</td>\n",
       "      <td>17350</td>\n",
       "      <td>8.0</td>\n",
       "      <td>2016</td>\n",
       "      <td>Non Fiction</td>\n",
       "    </tr>\n",
       "    <tr>\n",
       "      <th>1</th>\n",
       "      <td>11/22/63: A Novel</td>\n",
       "      <td>Stephen King</td>\n",
       "      <td>4.6</td>\n",
       "      <td>2052</td>\n",
       "      <td>22.0</td>\n",
       "      <td>2011</td>\n",
       "      <td>Fiction</td>\n",
       "    </tr>\n",
       "    <tr>\n",
       "      <th>2</th>\n",
       "      <td>12 Rules for Life: An Antidote to Chaos</td>\n",
       "      <td>Jordan B. Peterson</td>\n",
       "      <td>4.7</td>\n",
       "      <td>18979</td>\n",
       "      <td>15.0</td>\n",
       "      <td>2018</td>\n",
       "      <td>Non Fiction</td>\n",
       "    </tr>\n",
       "    <tr>\n",
       "      <th>3</th>\n",
       "      <td>1984 (Signet Classics)</td>\n",
       "      <td>George Orwell</td>\n",
       "      <td>4.7</td>\n",
       "      <td>21424</td>\n",
       "      <td>6.0</td>\n",
       "      <td>2017</td>\n",
       "      <td>Fiction</td>\n",
       "    </tr>\n",
       "    <tr>\n",
       "      <th>4</th>\n",
       "      <td>5,000 Awesome Facts (About Everything!) (Natio...</td>\n",
       "      <td>National Geographic Kids</td>\n",
       "      <td>4.8</td>\n",
       "      <td>7665</td>\n",
       "      <td>12.0</td>\n",
       "      <td>2019</td>\n",
       "      <td>Non Fiction</td>\n",
       "    </tr>\n",
       "    <tr>\n",
       "      <th>5</th>\n",
       "      <td>A Dance with Dragons (A Song of Ice and Fire)</td>\n",
       "      <td>George R. R. Martin</td>\n",
       "      <td>4.4</td>\n",
       "      <td>12643</td>\n",
       "      <td>11.0</td>\n",
       "      <td>2011</td>\n",
       "      <td>Fiction</td>\n",
       "    </tr>\n",
       "    <tr>\n",
       "      <th>6</th>\n",
       "      <td>A Game of Thrones / A Clash of Kings / A Storm...</td>\n",
       "      <td>George R. R. Martin</td>\n",
       "      <td>4.7</td>\n",
       "      <td>19735</td>\n",
       "      <td>30.0</td>\n",
       "      <td>2014</td>\n",
       "      <td>Fiction</td>\n",
       "    </tr>\n",
       "    <tr>\n",
       "      <th>7</th>\n",
       "      <td>A Gentleman in Moscow: A Novel</td>\n",
       "      <td>Amor Towles</td>\n",
       "      <td>4.7</td>\n",
       "      <td>19699</td>\n",
       "      <td>15.0</td>\n",
       "      <td>2017</td>\n",
       "      <td>Fiction</td>\n",
       "    </tr>\n",
       "    <tr>\n",
       "      <th>8</th>\n",
       "      <td>A Higher Loyalty: Truth, Lies, and Leadership</td>\n",
       "      <td>James Comey</td>\n",
       "      <td>4.7</td>\n",
       "      <td>5983</td>\n",
       "      <td>3.0</td>\n",
       "      <td>2018</td>\n",
       "      <td>Non Fiction</td>\n",
       "    </tr>\n",
       "    <tr>\n",
       "      <th>9</th>\n",
       "      <td>A Man Called Ove: A Novel</td>\n",
       "      <td>Fredrik Backman</td>\n",
       "      <td>4.6</td>\n",
       "      <td>23848</td>\n",
       "      <td>8.0</td>\n",
       "      <td>2016</td>\n",
       "      <td>Fiction</td>\n",
       "    </tr>\n",
       "    <tr>\n",
       "      <th>10</th>\n",
       "      <td>A Man Called Ove: A Novel</td>\n",
       "      <td>Fredrik Backman</td>\n",
       "      <td>4.6</td>\n",
       "      <td>23848</td>\n",
       "      <td>8.0</td>\n",
       "      <td>2017</td>\n",
       "      <td>Fiction</td>\n",
       "    </tr>\n",
       "    <tr>\n",
       "      <th>11</th>\n",
       "      <td>A Patriot's History of the United States: From...</td>\n",
       "      <td>Larry Schweikart</td>\n",
       "      <td>4.6</td>\n",
       "      <td>460</td>\n",
       "      <td>2.0</td>\n",
       "      <td>2010</td>\n",
       "      <td>Non Fiction</td>\n",
       "    </tr>\n",
       "    <tr>\n",
       "      <th>12</th>\n",
       "      <td>A Stolen Life: A Memoir</td>\n",
       "      <td>Jaycee Dugard</td>\n",
       "      <td>4.6</td>\n",
       "      <td>4149</td>\n",
       "      <td>32.0</td>\n",
       "      <td>2011</td>\n",
       "      <td>Non Fiction</td>\n",
       "    </tr>\n",
       "    <tr>\n",
       "      <th>13</th>\n",
       "      <td>A Wrinkle in Time (Time Quintet)</td>\n",
       "      <td>Madeleine L'Engle</td>\n",
       "      <td>4.5</td>\n",
       "      <td>5153</td>\n",
       "      <td>5.0</td>\n",
       "      <td>2018</td>\n",
       "      <td>Fiction</td>\n",
       "    </tr>\n",
       "    <tr>\n",
       "      <th>14</th>\n",
       "      <td>Act Like a Lady, Think Like a Man: What Men Re...</td>\n",
       "      <td>Steve Harvey</td>\n",
       "      <td>4.6</td>\n",
       "      <td>5013</td>\n",
       "      <td>17.0</td>\n",
       "      <td>2009</td>\n",
       "      <td>Non Fiction</td>\n",
       "    </tr>\n",
       "    <tr>\n",
       "      <th>15</th>\n",
       "      <td>Adult Coloring Book Designs: Stress Relief Col...</td>\n",
       "      <td>Adult Coloring Book Designs</td>\n",
       "      <td>4.5</td>\n",
       "      <td>2313</td>\n",
       "      <td>4.0</td>\n",
       "      <td>2016</td>\n",
       "      <td>Non Fiction</td>\n",
       "    </tr>\n",
       "    <tr>\n",
       "      <th>16</th>\n",
       "      <td>Adult Coloring Book: Stress Relieving Animal D...</td>\n",
       "      <td>Blue Star Coloring</td>\n",
       "      <td>4.6</td>\n",
       "      <td>2925</td>\n",
       "      <td>6.0</td>\n",
       "      <td>2015</td>\n",
       "      <td>Non Fiction</td>\n",
       "    </tr>\n",
       "    <tr>\n",
       "      <th>17</th>\n",
       "      <td>Adult Coloring Book: Stress Relieving Patterns</td>\n",
       "      <td>Blue Star Coloring</td>\n",
       "      <td>4.4</td>\n",
       "      <td>2951</td>\n",
       "      <td>6.0</td>\n",
       "      <td>2015</td>\n",
       "      <td>Non Fiction</td>\n",
       "    </tr>\n",
       "    <tr>\n",
       "      <th>18</th>\n",
       "      <td>Adult Coloring Books: A Coloring Book for Adul...</td>\n",
       "      <td>Coloring Books for Adults</td>\n",
       "      <td>4.5</td>\n",
       "      <td>2426</td>\n",
       "      <td>8.0</td>\n",
       "      <td>2015</td>\n",
       "      <td>Non Fiction</td>\n",
       "    </tr>\n",
       "    <tr>\n",
       "      <th>19</th>\n",
       "      <td>Alexander Hamilton</td>\n",
       "      <td>Ron Chernow</td>\n",
       "      <td>4.8</td>\n",
       "      <td>9198</td>\n",
       "      <td>13.0</td>\n",
       "      <td>2016</td>\n",
       "      <td>Non Fiction</td>\n",
       "    </tr>\n",
       "  </tbody>\n",
       "</table>\n",
       "</div>"
      ],
      "text/plain": [
       "                                                Title  \\\n",
       "0                       10-Day Green Smoothie Cleanse   \n",
       "1                                   11/22/63: A Novel   \n",
       "2             12 Rules for Life: An Antidote to Chaos   \n",
       "3                              1984 (Signet Classics)   \n",
       "4   5,000 Awesome Facts (About Everything!) (Natio...   \n",
       "5       A Dance with Dragons (A Song of Ice and Fire)   \n",
       "6   A Game of Thrones / A Clash of Kings / A Storm...   \n",
       "7                      A Gentleman in Moscow: A Novel   \n",
       "8       A Higher Loyalty: Truth, Lies, and Leadership   \n",
       "9                           A Man Called Ove: A Novel   \n",
       "10                          A Man Called Ove: A Novel   \n",
       "11  A Patriot's History of the United States: From...   \n",
       "12                            A Stolen Life: A Memoir   \n",
       "13                   A Wrinkle in Time (Time Quintet)   \n",
       "14  Act Like a Lady, Think Like a Man: What Men Re...   \n",
       "15  Adult Coloring Book Designs: Stress Relief Col...   \n",
       "16  Adult Coloring Book: Stress Relieving Animal D...   \n",
       "17     Adult Coloring Book: Stress Relieving Patterns   \n",
       "18  Adult Coloring Books: A Coloring Book for Adul...   \n",
       "19                                 Alexander Hamilton   \n",
       "\n",
       "                         Author  Rating  Reviews  Price  Publication Year  \\\n",
       "0                      JJ Smith     4.7    17350    8.0              2016   \n",
       "1                  Stephen King     4.6     2052   22.0              2011   \n",
       "2            Jordan B. Peterson     4.7    18979   15.0              2018   \n",
       "3                 George Orwell     4.7    21424    6.0              2017   \n",
       "4      National Geographic Kids     4.8     7665   12.0              2019   \n",
       "5           George R. R. Martin     4.4    12643   11.0              2011   \n",
       "6           George R. R. Martin     4.7    19735   30.0              2014   \n",
       "7                   Amor Towles     4.7    19699   15.0              2017   \n",
       "8                   James Comey     4.7     5983    3.0              2018   \n",
       "9               Fredrik Backman     4.6    23848    8.0              2016   \n",
       "10              Fredrik Backman     4.6    23848    8.0              2017   \n",
       "11             Larry Schweikart     4.6      460    2.0              2010   \n",
       "12                Jaycee Dugard     4.6     4149   32.0              2011   \n",
       "13            Madeleine L'Engle     4.5     5153    5.0              2018   \n",
       "14                 Steve Harvey     4.6     5013   17.0              2009   \n",
       "15  Adult Coloring Book Designs     4.5     2313    4.0              2016   \n",
       "16           Blue Star Coloring     4.6     2925    6.0              2015   \n",
       "17           Blue Star Coloring     4.4     2951    6.0              2015   \n",
       "18    Coloring Books for Adults     4.5     2426    8.0              2015   \n",
       "19                  Ron Chernow     4.8     9198   13.0              2016   \n",
       "\n",
       "          Genre  \n",
       "0   Non Fiction  \n",
       "1       Fiction  \n",
       "2   Non Fiction  \n",
       "3       Fiction  \n",
       "4   Non Fiction  \n",
       "5       Fiction  \n",
       "6       Fiction  \n",
       "7       Fiction  \n",
       "8   Non Fiction  \n",
       "9       Fiction  \n",
       "10      Fiction  \n",
       "11  Non Fiction  \n",
       "12  Non Fiction  \n",
       "13      Fiction  \n",
       "14  Non Fiction  \n",
       "15  Non Fiction  \n",
       "16  Non Fiction  \n",
       "17  Non Fiction  \n",
       "18  Non Fiction  \n",
       "19  Non Fiction  "
      ]
     },
     "execution_count": 12,
     "metadata": {},
     "output_type": "execute_result"
    }
   ],
   "source": [
    "df.head(20)"
   ]
  },
  {
   "cell_type": "markdown",
   "id": "0231ee62",
   "metadata": {},
   "source": [
    "---"
   ]
  },
  {
   "cell_type": "markdown",
   "id": "aed2c1d5",
   "metadata": {},
   "source": [
    "### Question 1: Which author appears most frequently among Amazon’s Top 50 Bestsellers (2009–2019)?"
   ]
  },
  {
   "cell_type": "code",
   "execution_count": 62,
   "id": "df1c60e5",
   "metadata": {},
   "outputs": [
    {
     "data": {
      "text/plain": [
       "'Jeff Kinney'"
      ]
     },
     "execution_count": 62,
     "metadata": {},
     "output_type": "execute_result"
    }
   ],
   "source": [
    "author_counts = df[\"Author\"].value_counts()\n",
    "highest_author_counts = author_counts.nlargest(1).index\n",
    "\n",
    "ans1 = highest_author_counts[0]\n",
    "ans1\n",
    "\n",
    "ans1"
   ]
  },
  {
   "cell_type": "markdown",
   "id": "b43425dc",
   "metadata": {},
   "source": [
    "### Question 2: What is the average price of Fiction vs. Non Fiction bestsellers?"
   ]
  },
  {
   "cell_type": "code",
   "execution_count": 14,
   "id": "5f8c771c",
   "metadata": {},
   "outputs": [
    {
     "data": {
      "text/plain": [
       "Genre\n",
       "Fiction        10.850000\n",
       "Non Fiction    14.841935\n",
       "Name: Price, dtype: float64"
      ]
     },
     "execution_count": 14,
     "metadata": {},
     "output_type": "execute_result"
    }
   ],
   "source": [
    "ans2 = df.groupby(\"Genre\")[\"Price\"].mean()\n",
    "ans2"
   ]
  },
  {
   "cell_type": "markdown",
   "id": "239a7440",
   "metadata": {},
   "source": [
    "### Question 3: Which single book received the highest number of user reviews in the dataset?"
   ]
  },
  {
   "cell_type": "code",
   "execution_count": null,
   "id": "4cade054",
   "metadata": {},
   "outputs": [
    {
     "data": {
      "text/plain": [
       "np.int64(87841)"
      ]
     },
     "execution_count": 63,
     "metadata": {},
     "output_type": "execute_result"
    }
   ],
   "source": [
    "max_revs = df[\"Reviews\"].max()\n",
    "ans3 = df.loc[df[\"Reviews\"]== max_revs]\n",
    "ans3"
   ]
  },
  {
   "cell_type": "markdown",
   "id": "d5fab2b3",
   "metadata": {},
   "source": [
    "### Question 4: How many unique authors had bestsellers that appeared in multiple years?"
   ]
  },
  {
   "cell_type": "code",
   "execution_count": 65,
   "id": "d3ecc48c",
   "metadata": {},
   "outputs": [
    {
     "data": {
      "text/plain": [
       "111"
      ]
     },
     "execution_count": 65,
     "metadata": {},
     "output_type": "execute_result"
    }
   ],
   "source": [
    "authors_year_counts = df.groupby(\"Author\")[\"Publication Year\"].nunique()\n",
    "filtered_authors = authors_year_counts[authors_year_counts>1]\n",
    "ans4 = filtered_authors.shape[0]\n",
    "ans4"
   ]
  },
  {
   "cell_type": "markdown",
   "id": "73cd8db2",
   "metadata": {},
   "source": [
    "### Question 5: What is the trend in average user ratings of bestsellers across the years 2009-2019?"
   ]
  },
  {
   "cell_type": "code",
   "execution_count": null,
   "id": "94f74870",
   "metadata": {},
   "outputs": [
    {
     "data": {
      "text/plain": [
       "Publication Year\n",
       "2009    4.584\n",
       "2010    4.558\n",
       "2011    4.558\n",
       "2012    4.532\n",
       "2013    4.554\n",
       "2014    4.622\n",
       "2015    4.648\n",
       "2016    4.678\n",
       "2017    4.660\n",
       "2018    4.668\n",
       "2019    4.740\n",
       "Name: Rating, dtype: float64"
      ]
     },
     "execution_count": 29,
     "metadata": {},
     "output_type": "execute_result"
    }
   ],
   "source": [
    "ans5 = df.groupby(\"Publication Year\")[\"Rating\"].mean().round(3)\n",
    "ans5"
   ]
  },
  {
   "cell_type": "markdown",
   "id": "cf1de229",
   "metadata": {},
   "source": [
    "### Question 6: Which year has the highest average number of reviews per bestseller?"
   ]
  },
  {
   "cell_type": "code",
   "execution_count": 34,
   "id": "f081fd57",
   "metadata": {},
   "outputs": [
    {
     "data": {
      "text/plain": [
       "np.int64(2019)"
      ]
     },
     "execution_count": 34,
     "metadata": {},
     "output_type": "execute_result"
    }
   ],
   "source": [
    "avg_revs = df.groupby(\"Publication Year\")[\"Reviews\"].mean().round(1)\n",
    "\n",
    "ans6 = avg_revs.idxmax()\n",
    "ans6"
   ]
  },
  {
   "cell_type": "markdown",
   "id": "99ab90ba",
   "metadata": {},
   "source": [
    "### Question 7: Is there a correlation between a book's price and the number of reviews it recieved?"
   ]
  },
  {
   "cell_type": "code",
   "execution_count": 35,
   "id": "bb8e3ea5",
   "metadata": {},
   "outputs": [
    {
     "data": {
      "text/plain": [
       "np.float64(-0.10918188342780513)"
      ]
     },
     "execution_count": 35,
     "metadata": {},
     "output_type": "execute_result"
    }
   ],
   "source": [
    "price_revs_corr = df[[\"Price\", \"Reviews\"]].corr()\n",
    "\n",
    "ans7 = price_revs_corr.loc[\"Price\", \"Reviews\"]\n",
    "ans7"
   ]
  },
  {
   "cell_type": "markdown",
   "id": "8d19f682",
   "metadata": {},
   "source": [
    "### Question 8: Which top 5 books appeared in the Amazon Bestseller list across the most years?"
   ]
  },
  {
   "cell_type": "code",
   "execution_count": 42,
   "id": "521254a1",
   "metadata": {},
   "outputs": [
    {
     "data": {
      "text/plain": [
       "Title\n",
       "Publication Manual of the American Psychological Association, 6th Edition       10\n",
       "StrengthsFinder 2.0                                                              9\n",
       "Oh, the Places You'll Go!                                                        8\n",
       "The Very Hungry Caterpillar                                                      7\n",
       "The 7 Habits of Highly Effective People: Powerful Lessons in Personal Change     7\n",
       "Name: Publication Year, dtype: int64"
      ]
     },
     "execution_count": 42,
     "metadata": {},
     "output_type": "execute_result"
    }
   ],
   "source": [
    "ans8 = (\n",
    "    df.groupby(\"Title\")[\"Publication Year\"]\n",
    "    .nunique()\n",
    "    .sort_values(ascending=False)\n",
    "    .head()\n",
    ")\n",
    "ans8"
   ]
  },
  {
   "cell_type": "markdown",
   "id": "a524a661",
   "metadata": {},
   "source": [
    "### Question 9: For each year, which author had the most books in the Top 50 Bestsellers?"
   ]
  },
  {
   "cell_type": "code",
   "execution_count": 46,
   "id": "72f1ad4c",
   "metadata": {},
   "outputs": [
    {
     "data": {
      "text/html": [
       "<div>\n",
       "<style scoped>\n",
       "    .dataframe tbody tr th:only-of-type {\n",
       "        vertical-align: middle;\n",
       "    }\n",
       "\n",
       "    .dataframe tbody tr th {\n",
       "        vertical-align: top;\n",
       "    }\n",
       "\n",
       "    .dataframe thead th {\n",
       "        text-align: right;\n",
       "    }\n",
       "</style>\n",
       "<table border=\"1\" class=\"dataframe\">\n",
       "  <thead>\n",
       "    <tr style=\"text-align: right;\">\n",
       "      <th></th>\n",
       "      <th>Publication Year</th>\n",
       "      <th>Author</th>\n",
       "      <th>Count</th>\n",
       "    </tr>\n",
       "  </thead>\n",
       "  <tbody>\n",
       "    <tr>\n",
       "      <th>0</th>\n",
       "      <td>2009</td>\n",
       "      <td>Stephenie Meyer</td>\n",
       "      <td>6</td>\n",
       "    </tr>\n",
       "    <tr>\n",
       "      <th>1</th>\n",
       "      <td>2010</td>\n",
       "      <td>Rick Riordan</td>\n",
       "      <td>4</td>\n",
       "    </tr>\n",
       "    <tr>\n",
       "      <th>2</th>\n",
       "      <td>2011</td>\n",
       "      <td>Suzanne Collins</td>\n",
       "      <td>4</td>\n",
       "    </tr>\n",
       "    <tr>\n",
       "      <th>3</th>\n",
       "      <td>2012</td>\n",
       "      <td>E L James</td>\n",
       "      <td>4</td>\n",
       "    </tr>\n",
       "    <tr>\n",
       "      <th>4</th>\n",
       "      <td>2013</td>\n",
       "      <td>Rob Elliott</td>\n",
       "      <td>2</td>\n",
       "    </tr>\n",
       "    <tr>\n",
       "      <th>5</th>\n",
       "      <td>2014</td>\n",
       "      <td>John Green</td>\n",
       "      <td>3</td>\n",
       "    </tr>\n",
       "    <tr>\n",
       "      <th>6</th>\n",
       "      <td>2015</td>\n",
       "      <td>Blue Star Coloring</td>\n",
       "      <td>2</td>\n",
       "    </tr>\n",
       "    <tr>\n",
       "      <th>7</th>\n",
       "      <td>2016</td>\n",
       "      <td>J.K. Rowling</td>\n",
       "      <td>4</td>\n",
       "    </tr>\n",
       "    <tr>\n",
       "      <th>8</th>\n",
       "      <td>2017</td>\n",
       "      <td>Rupi Kaur</td>\n",
       "      <td>2</td>\n",
       "    </tr>\n",
       "    <tr>\n",
       "      <th>9</th>\n",
       "      <td>2018</td>\n",
       "      <td>Dav Pilkey</td>\n",
       "      <td>3</td>\n",
       "    </tr>\n",
       "    <tr>\n",
       "      <th>10</th>\n",
       "      <td>2019</td>\n",
       "      <td>Dav Pilkey</td>\n",
       "      <td>3</td>\n",
       "    </tr>\n",
       "  </tbody>\n",
       "</table>\n",
       "</div>"
      ],
      "text/plain": [
       "    Publication Year              Author  Count\n",
       "0               2009     Stephenie Meyer      6\n",
       "1               2010        Rick Riordan      4\n",
       "2               2011     Suzanne Collins      4\n",
       "3               2012           E L James      4\n",
       "4               2013         Rob Elliott      2\n",
       "5               2014          John Green      3\n",
       "6               2015  Blue Star Coloring      2\n",
       "7               2016        J.K. Rowling      4\n",
       "8               2017           Rupi Kaur      2\n",
       "9               2018          Dav Pilkey      3\n",
       "10              2019          Dav Pilkey      3"
      ]
     },
     "execution_count": 46,
     "metadata": {},
     "output_type": "execute_result"
    }
   ],
   "source": [
    "counts_author = df.groupby([\"Publication Year\",\"Author\"]).size().reset_index(name=\"Count\")\n",
    "\n",
    "ans9 = (\n",
    "    counts_author\n",
    "    .sort_values([\"Publication Year\",\"Count\",\"Author\"], ascending=[True, False, True])\n",
    "    .groupby(\"Publication Year\")\n",
    "    .head(1)\n",
    "    .reset_index(drop=True)\n",
    ")\n",
    "\n",
    "ans9"
   ]
  },
  {
   "cell_type": "markdown",
   "id": "4d5af6c2",
   "metadata": {},
   "source": [
    "### Question 10: How does the price variability (variance) compare between Fiction and Non Fiction bestsellers?"
   ]
  },
  {
   "cell_type": "code",
   "execution_count": 53,
   "id": "54fd486e",
   "metadata": {},
   "outputs": [
    {
     "data": {
      "text/html": [
       "<div>\n",
       "<style scoped>\n",
       "    .dataframe tbody tr th:only-of-type {\n",
       "        vertical-align: middle;\n",
       "    }\n",
       "\n",
       "    .dataframe tbody tr th {\n",
       "        vertical-align: top;\n",
       "    }\n",
       "\n",
       "    .dataframe thead th {\n",
       "        text-align: right;\n",
       "    }\n",
       "</style>\n",
       "<table border=\"1\" class=\"dataframe\">\n",
       "  <thead>\n",
       "    <tr style=\"text-align: right;\">\n",
       "      <th></th>\n",
       "      <th>Variance</th>\n",
       "      <th>Std</th>\n",
       "    </tr>\n",
       "    <tr>\n",
       "      <th>Genre</th>\n",
       "      <th></th>\n",
       "      <th></th>\n",
       "    </tr>\n",
       "  </thead>\n",
       "  <tbody>\n",
       "    <tr>\n",
       "      <th>Fiction</th>\n",
       "      <td>73.49205</td>\n",
       "      <td>8.572750</td>\n",
       "    </tr>\n",
       "    <tr>\n",
       "      <th>Non Fiction</th>\n",
       "      <td>145.03966</td>\n",
       "      <td>12.043241</td>\n",
       "    </tr>\n",
       "  </tbody>\n",
       "</table>\n",
       "</div>"
      ],
      "text/plain": [
       "              Variance        Std\n",
       "Genre                            \n",
       "Fiction       73.49205   8.572750\n",
       "Non Fiction  145.03966  12.043241"
      ]
     },
     "execution_count": 53,
     "metadata": {},
     "output_type": "execute_result"
    }
   ],
   "source": [
    "var_genre = df.groupby(\"Genre\")[\"Price\"].var()\n",
    "std_genre = df.groupby(\"Genre\")[\"Price\"].std()\n",
    "\n",
    "ans10 = pd.concat([var_genre.rename(\"Variance\"),\n",
    "                   std_genre.rename(\"Std\")], axis=1)\n",
    "\n",
    "ans10"
   ]
  },
  {
   "cell_type": "markdown",
   "id": "1db6031d",
   "metadata": {},
   "source": [
    "### Question 11: What percentage of bestsellers with a user rating ≥ 4.8 belong to Non Fiction?"
   ]
  },
  {
   "cell_type": "code",
   "execution_count": null,
   "id": "05fa58a8",
   "metadata": {},
   "outputs": [
    {
     "data": {
      "text/html": [
       "<div>\n",
       "<style scoped>\n",
       "    .dataframe tbody tr th:only-of-type {\n",
       "        vertical-align: middle;\n",
       "    }\n",
       "\n",
       "    .dataframe tbody tr th {\n",
       "        vertical-align: top;\n",
       "    }\n",
       "\n",
       "    .dataframe thead th {\n",
       "        text-align: right;\n",
       "    }\n",
       "</style>\n",
       "<table border=\"1\" class=\"dataframe\">\n",
       "  <thead>\n",
       "    <tr style=\"text-align: right;\">\n",
       "      <th></th>\n",
       "      <th>Title</th>\n",
       "      <th>Author</th>\n",
       "      <th>Rating</th>\n",
       "      <th>Reviews</th>\n",
       "      <th>Price</th>\n",
       "      <th>Publication Year</th>\n",
       "      <th>Genre</th>\n",
       "    </tr>\n",
       "  </thead>\n",
       "  <tbody>\n",
       "    <tr>\n",
       "      <th>4</th>\n",
       "      <td>5,000 Awesome Facts (About Everything!) (Natio...</td>\n",
       "      <td>National Geographic Kids</td>\n",
       "      <td>4.8</td>\n",
       "      <td>7665</td>\n",
       "      <td>12.0</td>\n",
       "      <td>2019</td>\n",
       "      <td>Non Fiction</td>\n",
       "    </tr>\n",
       "    <tr>\n",
       "      <th>19</th>\n",
       "      <td>Alexander Hamilton</td>\n",
       "      <td>Ron Chernow</td>\n",
       "      <td>4.8</td>\n",
       "      <td>9198</td>\n",
       "      <td>13.0</td>\n",
       "      <td>2016</td>\n",
       "      <td>Non Fiction</td>\n",
       "    </tr>\n",
       "    <tr>\n",
       "      <th>30</th>\n",
       "      <td>Barefoot Contessa Foolproof: Recipes You Can T...</td>\n",
       "      <td>Ina Garten</td>\n",
       "      <td>4.8</td>\n",
       "      <td>1296</td>\n",
       "      <td>24.0</td>\n",
       "      <td>2012</td>\n",
       "      <td>Non Fiction</td>\n",
       "    </tr>\n",
       "    <tr>\n",
       "      <th>32</th>\n",
       "      <td>Becoming</td>\n",
       "      <td>Michelle Obama</td>\n",
       "      <td>4.8</td>\n",
       "      <td>61133</td>\n",
       "      <td>11.0</td>\n",
       "      <td>2018</td>\n",
       "      <td>Non Fiction</td>\n",
       "    </tr>\n",
       "    <tr>\n",
       "      <th>33</th>\n",
       "      <td>Becoming</td>\n",
       "      <td>Michelle Obama</td>\n",
       "      <td>4.8</td>\n",
       "      <td>61133</td>\n",
       "      <td>11.0</td>\n",
       "      <td>2019</td>\n",
       "      <td>Non Fiction</td>\n",
       "    </tr>\n",
       "    <tr>\n",
       "      <th>...</th>\n",
       "      <td>...</td>\n",
       "      <td>...</td>\n",
       "      <td>...</td>\n",
       "      <td>...</td>\n",
       "      <td>...</td>\n",
       "      <td>...</td>\n",
       "      <td>...</td>\n",
       "    </tr>\n",
       "    <tr>\n",
       "      <th>518</th>\n",
       "      <td>Unbroken: A World War II Story of Survival, Re...</td>\n",
       "      <td>Laura Hillenbrand</td>\n",
       "      <td>4.8</td>\n",
       "      <td>29673</td>\n",
       "      <td>13.0</td>\n",
       "      <td>2014</td>\n",
       "      <td>Non Fiction</td>\n",
       "    </tr>\n",
       "    <tr>\n",
       "      <th>519</th>\n",
       "      <td>Unbroken: A World War II Story of Survival, Re...</td>\n",
       "      <td>Laura Hillenbrand</td>\n",
       "      <td>4.8</td>\n",
       "      <td>29673</td>\n",
       "      <td>16.0</td>\n",
       "      <td>2014</td>\n",
       "      <td>Non Fiction</td>\n",
       "    </tr>\n",
       "    <tr>\n",
       "      <th>521</th>\n",
       "      <td>Unfreedom of the Press</td>\n",
       "      <td>Mark R. Levin</td>\n",
       "      <td>4.9</td>\n",
       "      <td>5956</td>\n",
       "      <td>11.0</td>\n",
       "      <td>2019</td>\n",
       "      <td>Non Fiction</td>\n",
       "    </tr>\n",
       "    <tr>\n",
       "      <th>522</th>\n",
       "      <td>Unicorn Coloring Book: For Kids Ages 4-8 (US E...</td>\n",
       "      <td>Silly Bear</td>\n",
       "      <td>4.8</td>\n",
       "      <td>6108</td>\n",
       "      <td>4.0</td>\n",
       "      <td>2019</td>\n",
       "      <td>Non Fiction</td>\n",
       "    </tr>\n",
       "    <tr>\n",
       "      <th>533</th>\n",
       "      <td>When Breath Becomes Air</td>\n",
       "      <td>Paul Kalanithi</td>\n",
       "      <td>4.8</td>\n",
       "      <td>13779</td>\n",
       "      <td>14.0</td>\n",
       "      <td>2016</td>\n",
       "      <td>Non Fiction</td>\n",
       "    </tr>\n",
       "  </tbody>\n",
       "</table>\n",
       "<p>62 rows × 7 columns</p>\n",
       "</div>"
      ],
      "text/plain": [
       "                                                 Title  \\\n",
       "4    5,000 Awesome Facts (About Everything!) (Natio...   \n",
       "19                                  Alexander Hamilton   \n",
       "30   Barefoot Contessa Foolproof: Recipes You Can T...   \n",
       "32                                            Becoming   \n",
       "33                                            Becoming   \n",
       "..                                                 ...   \n",
       "518  Unbroken: A World War II Story of Survival, Re...   \n",
       "519  Unbroken: A World War II Story of Survival, Re...   \n",
       "521                             Unfreedom of the Press   \n",
       "522  Unicorn Coloring Book: For Kids Ages 4-8 (US E...   \n",
       "533                            When Breath Becomes Air   \n",
       "\n",
       "                       Author  Rating  Reviews  Price  Publication Year  \\\n",
       "4    National Geographic Kids     4.8     7665   12.0              2019   \n",
       "19                Ron Chernow     4.8     9198   13.0              2016   \n",
       "30                 Ina Garten     4.8     1296   24.0              2012   \n",
       "32             Michelle Obama     4.8    61133   11.0              2018   \n",
       "33             Michelle Obama     4.8    61133   11.0              2019   \n",
       "..                        ...     ...      ...    ...               ...   \n",
       "518         Laura Hillenbrand     4.8    29673   13.0              2014   \n",
       "519         Laura Hillenbrand     4.8    29673   16.0              2014   \n",
       "521             Mark R. Levin     4.9     5956   11.0              2019   \n",
       "522                Silly Bear     4.8     6108    4.0              2019   \n",
       "533            Paul Kalanithi     4.8    13779   14.0              2016   \n",
       "\n",
       "           Genre  \n",
       "4    Non Fiction  \n",
       "19   Non Fiction  \n",
       "30   Non Fiction  \n",
       "32   Non Fiction  \n",
       "33   Non Fiction  \n",
       "..           ...  \n",
       "518  Non Fiction  \n",
       "519  Non Fiction  \n",
       "521  Non Fiction  \n",
       "522  Non Fiction  \n",
       "533  Non Fiction  \n",
       "\n",
       "[62 rows x 7 columns]"
      ]
     },
     "execution_count": 58,
     "metadata": {},
     "output_type": "execute_result"
    }
   ],
   "source": [
    "matched_rating = df[df[\"Rating\"] >= 4.8]\n",
    "ans11 = (matched_rating[\"Genre\"].eq(\"Non Fiction\").mean() * 100) if len(matched_rating) else np.nan"
   ]
  },
  {
   "cell_type": "markdown",
   "id": "73769e81",
   "metadata": {},
   "source": [
    "### Question 12: Among authors with at least 3 bestselling books, which author has the highest average rating?"
   ]
  },
  {
   "cell_type": "code",
   "execution_count": 67,
   "id": "66ec49c2",
   "metadata": {},
   "outputs": [
    {
     "data": {
      "text/plain": [
       "Author\n",
       "Eric Carle    4.9\n",
       "Name: Rating, dtype: float64"
      ]
     },
     "execution_count": 67,
     "metadata": {},
     "output_type": "execute_result"
    }
   ],
   "source": [
    "abc = df[\"Author\"].value_counts()\n",
    "author_list = abc[abc>=3].index\n",
    "ans12 = (\n",
    "    df[df[\"Author\"].isin(author_list)]\n",
    "    .groupby(\"Author\")[\"Rating\"].mean()\n",
    "    .sort_values(ascending=False)\n",
    "    .head(1)\n",
    ")\n",
    "ans12"
   ]
  },
  {
   "cell_type": "markdown",
   "id": "4cb6ccb8",
   "metadata": {},
   "source": [
    "### Question 13: Which year had the lowest median price for bestselling books, and what was that price?"
   ]
  },
  {
   "cell_type": "code",
   "execution_count": 71,
   "id": "28359059",
   "metadata": {},
   "outputs": [
    {
     "data": {
      "text/plain": [
       "Publication Year\n",
       "2018    8.0\n",
       "Name: Price, dtype: float64"
      ]
     },
     "execution_count": 71,
     "metadata": {},
     "output_type": "execute_result"
    }
   ],
   "source": [
    "ans13 = (\n",
    "    df.groupby(\"Publication Year\")[\"Price\"].median()\n",
    "    .sort_values()\n",
    "    .head(1)\n",
    ")\n",
    "ans13"
   ]
  },
  {
   "cell_type": "markdown",
   "id": "d4d35fad",
   "metadata": {},
   "source": [
    "### Question 14: How many bestsellers priced above $20 still managed to achieve a rating ≥ 4.7?"
   ]
  },
  {
   "cell_type": "code",
   "execution_count": 74,
   "id": "d1043d5e",
   "metadata": {},
   "outputs": [
    {
     "data": {
      "text/plain": [
       "np.int64(30)"
      ]
     },
     "execution_count": 74,
     "metadata": {},
     "output_type": "execute_result"
    }
   ],
   "source": [
    "priced_20_more = df[df[\"Price\"]>20]\n",
    "\n",
    "ans14 = priced_20_more[\"Rating\"].ge(4.7).sum()\n",
    "ans14"
   ]
  },
  {
   "cell_type": "markdown",
   "id": "37f52068",
   "metadata": {},
   "source": [
    "### Question 15: Does the dataset suggest a relationship between the number of reviews and user ratings (e.g., do heavily reviewed books tend to have higher ratings)?"
   ]
  },
  {
   "cell_type": "code",
   "execution_count": null,
   "id": "7e0c2a22",
   "metadata": {},
   "outputs": [
    {
     "name": "stdout",
     "output_type": "stream",
     "text": [
      "The relationship between the number of reviews and ratings is -0.001729. This suggests that the amount of reviews and user ratings have a weak negative correlation\n",
      "That is, on average, for every 1000 increase in reviews, ratings decrease by 1.\n"
     ]
    }
   ],
   "source": [
    "corr_rev_rat = df[[\"Reviews\", \"Rating\"]].corr()\n",
    "ans15 = corr_rev_rat.loc[\"Reviews\", \"Rating\"]\n",
    "ans15\n",
    "\n",
    "print(f\"The relationship between the number of reviews and ratings is {ans15.round(6)}. This suggests that the amount of reviews and user ratings have a weak negative correlation\")\n",
    "print(\"That is, on average, for every 1000 increase in reviews, ratings decrease by 1.729\")\n"
   ]
  },
  {
   "cell_type": "markdown",
   "id": "26169625",
   "metadata": {},
   "source": [
    "### Question 16: Using a pivot table, how did the distribution of Fiction vs. Non Fiction bestsellers change from 2009 to 2019?"
   ]
  },
  {
   "cell_type": "code",
   "execution_count": 90,
   "id": "dd2d6d02",
   "metadata": {},
   "outputs": [
    {
     "data": {
      "text/html": [
       "<div>\n",
       "<style scoped>\n",
       "    .dataframe tbody tr th:only-of-type {\n",
       "        vertical-align: middle;\n",
       "    }\n",
       "\n",
       "    .dataframe tbody tr th {\n",
       "        vertical-align: top;\n",
       "    }\n",
       "\n",
       "    .dataframe thead th {\n",
       "        text-align: right;\n",
       "    }\n",
       "</style>\n",
       "<table border=\"1\" class=\"dataframe\">\n",
       "  <thead>\n",
       "    <tr style=\"text-align: right;\">\n",
       "      <th>Genre</th>\n",
       "      <th>Fiction</th>\n",
       "      <th>Non Fiction</th>\n",
       "    </tr>\n",
       "    <tr>\n",
       "      <th>Publication Year</th>\n",
       "      <th></th>\n",
       "      <th></th>\n",
       "    </tr>\n",
       "  </thead>\n",
       "  <tbody>\n",
       "    <tr>\n",
       "      <th>2009</th>\n",
       "      <td>48.0</td>\n",
       "      <td>52.0</td>\n",
       "    </tr>\n",
       "    <tr>\n",
       "      <th>2010</th>\n",
       "      <td>40.0</td>\n",
       "      <td>60.0</td>\n",
       "    </tr>\n",
       "    <tr>\n",
       "      <th>2011</th>\n",
       "      <td>42.0</td>\n",
       "      <td>58.0</td>\n",
       "    </tr>\n",
       "    <tr>\n",
       "      <th>2012</th>\n",
       "      <td>42.0</td>\n",
       "      <td>58.0</td>\n",
       "    </tr>\n",
       "    <tr>\n",
       "      <th>2013</th>\n",
       "      <td>48.0</td>\n",
       "      <td>52.0</td>\n",
       "    </tr>\n",
       "    <tr>\n",
       "      <th>2014</th>\n",
       "      <td>58.0</td>\n",
       "      <td>42.0</td>\n",
       "    </tr>\n",
       "    <tr>\n",
       "      <th>2015</th>\n",
       "      <td>34.0</td>\n",
       "      <td>66.0</td>\n",
       "    </tr>\n",
       "    <tr>\n",
       "      <th>2016</th>\n",
       "      <td>38.0</td>\n",
       "      <td>62.0</td>\n",
       "    </tr>\n",
       "    <tr>\n",
       "      <th>2017</th>\n",
       "      <td>48.0</td>\n",
       "      <td>52.0</td>\n",
       "    </tr>\n",
       "    <tr>\n",
       "      <th>2018</th>\n",
       "      <td>42.0</td>\n",
       "      <td>58.0</td>\n",
       "    </tr>\n",
       "    <tr>\n",
       "      <th>2019</th>\n",
       "      <td>40.0</td>\n",
       "      <td>60.0</td>\n",
       "    </tr>\n",
       "  </tbody>\n",
       "</table>\n",
       "</div>"
      ],
      "text/plain": [
       "Genre             Fiction  Non Fiction\n",
       "Publication Year                      \n",
       "2009                 48.0         52.0\n",
       "2010                 40.0         60.0\n",
       "2011                 42.0         58.0\n",
       "2012                 42.0         58.0\n",
       "2013                 48.0         52.0\n",
       "2014                 58.0         42.0\n",
       "2015                 34.0         66.0\n",
       "2016                 38.0         62.0\n",
       "2017                 48.0         52.0\n",
       "2018                 42.0         58.0\n",
       "2019                 40.0         60.0"
      ]
     },
     "execution_count": 90,
     "metadata": {},
     "output_type": "execute_result"
    }
   ],
   "source": [
    "count_pivot = pd.pivot_table(\n",
    "    df, \n",
    "    index=\"Publication Year\", \n",
    "    columns=\"Genre\", \n",
    "    values=\"Title\", \n",
    "    aggfunc=\"count\", \n",
    "    fill_value=0\n",
    ")\n",
    "if {\"Fiction\",\"Non Fiction\"}.issubset(count_pivot.columns):\n",
    "    count_pivot = count_pivot[[\"Fiction\",\"Non Fiction\"]]\n",
    "pivot_pct = (count_pivot.div(count_pivot.sum(axis=1), axis=0) * 100).round(1)\n",
    "\n",
    "pivot_pct"
   ]
  },
  {
   "cell_type": "code",
   "execution_count": 114,
   "id": "73498ff6",
   "metadata": {},
   "outputs": [
    {
     "data": {
      "image/png": "[encoded data removed]",
      "text/plain": [
       "<Figure size 1000x600 with 1 Axes>"
      ]
     },
     "metadata": {},
     "output_type": "display_data"
    }
   ],
   "source": [
    "# Plot stacked bar chart\n",
    "count_pivot.plot(\n",
    "    kind=\"bar\",\n",
    "    stacked=False,\n",
    "    figsize=(10, 6),\n",
    "    color = [\"skyblue\", \"pink\"]\n",
    ")\n",
    "\n",
    "plt.title(\"Distribution of Fiction vs Non Fiction Bestsellers (2009–2019)\", fontsize=14)\n",
    "plt.xlabel(\"Year\", fontsize=12)\n",
    "plt.ylabel(\"Count of Bestsellers\", fontsize=12)\n",
    "plt.legend(title=\"Genre\")\n",
    "plt.tight_layout()\n",
    "plt.show()\n"
   ]
  },
  {
   "cell_type": "markdown",
   "id": "240782ef",
   "metadata": {},
   "source": [
    "### Question 17: Which author had the most consistent user ratings (lowest standard deviation across all their bestsellers)?"
   ]
  },
  {
   "cell_type": "code",
   "execution_count": 99,
   "id": "4afd2ee2",
   "metadata": {},
   "outputs": [
    {
     "data": {
      "text/html": [
       "<div>\n",
       "<style scoped>\n",
       "    .dataframe tbody tr th:only-of-type {\n",
       "        vertical-align: middle;\n",
       "    }\n",
       "\n",
       "    .dataframe tbody tr th {\n",
       "        vertical-align: top;\n",
       "    }\n",
       "\n",
       "    .dataframe thead th {\n",
       "        text-align: right;\n",
       "    }\n",
       "</style>\n",
       "<table border=\"1\" class=\"dataframe\">\n",
       "  <thead>\n",
       "    <tr style=\"text-align: right;\">\n",
       "      <th></th>\n",
       "      <th>std</th>\n",
       "      <th>count</th>\n",
       "    </tr>\n",
       "    <tr>\n",
       "      <th>Author</th>\n",
       "      <th></th>\n",
       "      <th></th>\n",
       "    </tr>\n",
       "  </thead>\n",
       "  <tbody>\n",
       "    <tr>\n",
       "      <th>Abraham Verghese</th>\n",
       "      <td>0.0</td>\n",
       "      <td>2</td>\n",
       "    </tr>\n",
       "  </tbody>\n",
       "</table>\n",
       "</div>"
      ],
      "text/plain": [
       "                  std  count\n",
       "Author                      \n",
       "Abraham Verghese  0.0      2"
      ]
     },
     "execution_count": 99,
     "metadata": {},
     "output_type": "execute_result"
    }
   ],
   "source": [
    "df_agg = df.groupby(\"Author\")[\"Rating\"].agg([\"std\",\"count\"])\n",
    "df_agg = df_agg[df_agg[\"count\"]>=2].copy()\n",
    "df_agg[\"std\"] = df_agg[\"std\"].fillna(0).round(4)\n",
    "ans17 = df_agg.sort_values(by=[\"std\", \"count\"]).head(1)\n",
    "ans17\n"
   ]
  },
  {
   "cell_type": "markdown",
   "id": "c2c3be17",
   "metadata": {},
   "source": [
    "### Question 18: If you group bestsellers into price quartiles, how do their average number of reviews differ across quartiles?"
   ]
  },
  {
   "cell_type": "code",
   "execution_count": 103,
   "id": "fe660e87",
   "metadata": {},
   "outputs": [
    {
     "name": "stderr",
     "output_type": "stream",
     "text": [
      "/var/folders/41/v432s3710md0b49y0m1xkk2c0000gn/T/ipykernel_52884/2525304270.py:3: FutureWarning: The default of observed=False is deprecated and will be changed to True in a future version of pandas. Pass observed=False to retain current behavior or observed=True to adopt the future default and silence this warning.\n",
      "  ans18 = df.groupby(\"Price quartile\")[\"Reviews\"].mean().round(2)\n"
     ]
    },
    {
     "data": {
      "text/plain": [
       "Price quartile\n",
       "(-0.001, 7.0]    11404.93\n",
       "(7.0, 11.0]      14660.89\n",
       "(11.0, 16.0]     13028.88\n",
       "(16.0, 105.0]     8103.21\n",
       "Name: Reviews, dtype: float64"
      ]
     },
     "execution_count": 103,
     "metadata": {},
     "output_type": "execute_result"
    }
   ],
   "source": [
    "df[\"Price quartile\"] = pd.qcut(df[\"Price\"], 4, duplicates= \"drop\")\n",
    "\n",
    "ans18 = df.groupby(\"Price quartile\")[\"Reviews\"].mean().round(2)\n",
    "ans18"
   ]
  },
  {
   "cell_type": "markdown",
   "id": "f808f3a9",
   "metadata": {},
   "source": [
    "### Question 19: For books in multiple years: rating trend (improve/decline/stable) via slope"
   ]
  },
  {
   "cell_type": "code",
   "execution_count": 108,
   "id": "313c20ea",
   "metadata": {},
   "outputs": [],
   "source": [
    "def slope_per_book(g):\n",
    "    tmp = g[[\"Publication Year\",\"Rating\"]].dropna().drop_duplicates().sort_values(\"Publication Year\")\n",
    "    if tmp[\"Publication Year\"].nunique() < 2:\n",
    "        return np.nan\n",
    "    x = tmp[\"Publication Year\"].values\n",
    "    y = tmp[\"Rating\"].values\n",
    "    return np.polyfit(x, y, 1)[0]"
   ]
  },
  {
   "cell_type": "code",
   "execution_count": 110,
   "id": "222c867d",
   "metadata": {},
   "outputs": [
    {
     "name": "stderr",
     "output_type": "stream",
     "text": [
      "/var/folders/41/v432s3710md0b49y0m1xkk2c0000gn/T/ipykernel_52884/714711742.py:5: FutureWarning: DataFrameGroupBy.apply operated on the grouping columns. This behavior is deprecated, and in a future version of pandas the grouping columns will be excluded from the operation. Either pass `include_groups=False` to exclude the groupings or explicitly select the grouping columns after groupby to silence this warning.\n",
      "  .apply(slope_per_book)\n"
     ]
    },
    {
     "data": {
      "text/plain": [
       "np.float64(0.00017160404624275618)"
      ]
     },
     "execution_count": 110,
     "metadata": {},
     "output_type": "execute_result"
    }
   ],
   "source": [
    "multi_year_books = df.groupby(\"Title\").filter(lambda g: g[\"Publication Year\"].nunique() > 1)\n",
    "\n",
    "slopes = (\n",
    "    multi_year_books.groupby(\"Title\")\n",
    "    .apply(slope_per_book)\n",
    "    .dropna()\n",
    "    .rename(\"slope_per_year\")\n",
    ")\n",
    "\n",
    "improving = (slopes > 0).sum()\n",
    "declining = (slopes < 0).sum()\n",
    "stable = (slopes.abs() < 1e-6).sum()\n",
    "ans19 = slopes.mean() if not slopes.empty else np.nan\n",
    "ans19"
   ]
  },
  {
   "cell_type": "markdown",
   "id": "4fabd060",
   "metadata": {},
   "source": [
    "### Question 20: Year-wise leaderboard: top 3 authors by cumulative reviews"
   ]
  },
  {
   "cell_type": "code",
   "execution_count": 113,
   "id": "5f4bc07c",
   "metadata": {},
   "outputs": [
    {
     "data": {
      "text/html": [
       "<div>\n",
       "<style scoped>\n",
       "    .dataframe tbody tr th:only-of-type {\n",
       "        vertical-align: middle;\n",
       "    }\n",
       "\n",
       "    .dataframe tbody tr th {\n",
       "        vertical-align: top;\n",
       "    }\n",
       "\n",
       "    .dataframe thead th {\n",
       "        text-align: right;\n",
       "    }\n",
       "</style>\n",
       "<table border=\"1\" class=\"dataframe\">\n",
       "  <thead>\n",
       "    <tr style=\"text-align: right;\">\n",
       "      <th></th>\n",
       "      <th>Publication Year</th>\n",
       "      <th>Author</th>\n",
       "      <th>Reviews</th>\n",
       "      <th>Rank</th>\n",
       "    </tr>\n",
       "  </thead>\n",
       "  <tbody>\n",
       "    <tr>\n",
       "      <th>0</th>\n",
       "      <td>2009</td>\n",
       "      <td>Stephenie Meyer</td>\n",
       "      <td>41936</td>\n",
       "      <td>1.0</td>\n",
       "    </tr>\n",
       "    <tr>\n",
       "      <th>1</th>\n",
       "      <td>2009</td>\n",
       "      <td>William P. Young</td>\n",
       "      <td>19720</td>\n",
       "      <td>2.0</td>\n",
       "    </tr>\n",
       "    <tr>\n",
       "      <th>2</th>\n",
       "      <td>2009</td>\n",
       "      <td>Stieg Larsson</td>\n",
       "      <td>17810</td>\n",
       "      <td>3.0</td>\n",
       "    </tr>\n",
       "    <tr>\n",
       "      <th>3</th>\n",
       "      <td>2010</td>\n",
       "      <td>Suzanne Collins</td>\n",
       "      <td>81477</td>\n",
       "      <td>1.0</td>\n",
       "    </tr>\n",
       "    <tr>\n",
       "      <th>4</th>\n",
       "      <td>2010</td>\n",
       "      <td>Laura Hillenbrand</td>\n",
       "      <td>29673</td>\n",
       "      <td>2.0</td>\n",
       "    </tr>\n",
       "    <tr>\n",
       "      <th>5</th>\n",
       "      <td>2010</td>\n",
       "      <td>Stieg Larsson</td>\n",
       "      <td>25557</td>\n",
       "      <td>3.0</td>\n",
       "    </tr>\n",
       "    <tr>\n",
       "      <th>6</th>\n",
       "      <td>2011</td>\n",
       "      <td>Suzanne Collins</td>\n",
       "      <td>98426</td>\n",
       "      <td>1.0</td>\n",
       "    </tr>\n",
       "    <tr>\n",
       "      <th>7</th>\n",
       "      <td>2011</td>\n",
       "      <td>Laura Hillenbrand</td>\n",
       "      <td>29673</td>\n",
       "      <td>2.0</td>\n",
       "    </tr>\n",
       "    <tr>\n",
       "      <th>8</th>\n",
       "      <td>2011</td>\n",
       "      <td>Kathryn Stockett</td>\n",
       "      <td>27742</td>\n",
       "      <td>3.0</td>\n",
       "    </tr>\n",
       "    <tr>\n",
       "      <th>9</th>\n",
       "      <td>2012</td>\n",
       "      <td>E L James</td>\n",
       "      <td>105122</td>\n",
       "      <td>1.0</td>\n",
       "    </tr>\n",
       "    <tr>\n",
       "      <th>10</th>\n",
       "      <td>2012</td>\n",
       "      <td>Suzanne Collins</td>\n",
       "      <td>98426</td>\n",
       "      <td>2.0</td>\n",
       "    </tr>\n",
       "    <tr>\n",
       "      <th>11</th>\n",
       "      <td>2012</td>\n",
       "      <td>Gillian Flynn</td>\n",
       "      <td>57271</td>\n",
       "      <td>3.0</td>\n",
       "    </tr>\n",
       "    <tr>\n",
       "      <th>12</th>\n",
       "      <td>2013</td>\n",
       "      <td>Gillian Flynn</td>\n",
       "      <td>57271</td>\n",
       "      <td>1.0</td>\n",
       "    </tr>\n",
       "    <tr>\n",
       "      <th>13</th>\n",
       "      <td>2013</td>\n",
       "      <td>John Green</td>\n",
       "      <td>50482</td>\n",
       "      <td>2.0</td>\n",
       "    </tr>\n",
       "    <tr>\n",
       "      <th>14</th>\n",
       "      <td>2013</td>\n",
       "      <td>E L James</td>\n",
       "      <td>47265</td>\n",
       "      <td>3.0</td>\n",
       "    </tr>\n",
       "    <tr>\n",
       "      <th>15</th>\n",
       "      <td>2014</td>\n",
       "      <td>John Green</td>\n",
       "      <td>109455</td>\n",
       "      <td>1.0</td>\n",
       "    </tr>\n",
       "    <tr>\n",
       "      <th>16</th>\n",
       "      <td>2014</td>\n",
       "      <td>Laura Hillenbrand</td>\n",
       "      <td>59346</td>\n",
       "      <td>2.0</td>\n",
       "    </tr>\n",
       "    <tr>\n",
       "      <th>17</th>\n",
       "      <td>2014</td>\n",
       "      <td>Gillian Flynn</td>\n",
       "      <td>57271</td>\n",
       "      <td>3.0</td>\n",
       "    </tr>\n",
       "    <tr>\n",
       "      <th>18</th>\n",
       "      <td>2015</td>\n",
       "      <td>Paula Hawkins</td>\n",
       "      <td>79446</td>\n",
       "      <td>1.0</td>\n",
       "    </tr>\n",
       "    <tr>\n",
       "      <th>19</th>\n",
       "      <td>2015</td>\n",
       "      <td>Kristin Hannah</td>\n",
       "      <td>49288</td>\n",
       "      <td>2.0</td>\n",
       "    </tr>\n",
       "    <tr>\n",
       "      <th>20</th>\n",
       "      <td>2015</td>\n",
       "      <td>Harper Lee</td>\n",
       "      <td>41216</td>\n",
       "      <td>3.0</td>\n",
       "    </tr>\n",
       "    <tr>\n",
       "      <th>21</th>\n",
       "      <td>2016</td>\n",
       "      <td>Paula Hawkins</td>\n",
       "      <td>79446</td>\n",
       "      <td>1.0</td>\n",
       "    </tr>\n",
       "    <tr>\n",
       "      <th>22</th>\n",
       "      <td>2016</td>\n",
       "      <td>J.K. Rowling</td>\n",
       "      <td>58017</td>\n",
       "      <td>2.0</td>\n",
       "    </tr>\n",
       "    <tr>\n",
       "      <th>23</th>\n",
       "      <td>2016</td>\n",
       "      <td>Kristin Hannah</td>\n",
       "      <td>49288</td>\n",
       "      <td>3.0</td>\n",
       "    </tr>\n",
       "    <tr>\n",
       "      <th>24</th>\n",
       "      <td>2017</td>\n",
       "      <td>Margaret Atwood</td>\n",
       "      <td>29442</td>\n",
       "      <td>1.0</td>\n",
       "    </tr>\n",
       "    <tr>\n",
       "      <th>25</th>\n",
       "      <td>2017</td>\n",
       "      <td>Mark Manson</td>\n",
       "      <td>26490</td>\n",
       "      <td>2.0</td>\n",
       "    </tr>\n",
       "    <tr>\n",
       "      <th>26</th>\n",
       "      <td>2017</td>\n",
       "      <td>Gary Chapman</td>\n",
       "      <td>25554</td>\n",
       "      <td>3.0</td>\n",
       "    </tr>\n",
       "    <tr>\n",
       "      <th>27</th>\n",
       "      <td>2018</td>\n",
       "      <td>Michelle Obama</td>\n",
       "      <td>61133</td>\n",
       "      <td>1.0</td>\n",
       "    </tr>\n",
       "    <tr>\n",
       "      <th>28</th>\n",
       "      <td>2018</td>\n",
       "      <td>Craig Smith</td>\n",
       "      <td>30183</td>\n",
       "      <td>2.0</td>\n",
       "    </tr>\n",
       "    <tr>\n",
       "      <th>29</th>\n",
       "      <td>2018</td>\n",
       "      <td>Tara Westover</td>\n",
       "      <td>28729</td>\n",
       "      <td>3.0</td>\n",
       "    </tr>\n",
       "    <tr>\n",
       "      <th>30</th>\n",
       "      <td>2019</td>\n",
       "      <td>Delia Owens</td>\n",
       "      <td>87841</td>\n",
       "      <td>1.0</td>\n",
       "    </tr>\n",
       "    <tr>\n",
       "      <th>31</th>\n",
       "      <td>2019</td>\n",
       "      <td>Michelle Obama</td>\n",
       "      <td>61133</td>\n",
       "      <td>2.0</td>\n",
       "    </tr>\n",
       "    <tr>\n",
       "      <th>32</th>\n",
       "      <td>2019</td>\n",
       "      <td>Craig Smith</td>\n",
       "      <td>30183</td>\n",
       "      <td>3.0</td>\n",
       "    </tr>\n",
       "  </tbody>\n",
       "</table>\n",
       "</div>"
      ],
      "text/plain": [
       "    Publication Year             Author  Reviews  Rank\n",
       "0               2009    Stephenie Meyer    41936   1.0\n",
       "1               2009   William P. Young    19720   2.0\n",
       "2               2009      Stieg Larsson    17810   3.0\n",
       "3               2010    Suzanne Collins    81477   1.0\n",
       "4               2010  Laura Hillenbrand    29673   2.0\n",
       "5               2010      Stieg Larsson    25557   3.0\n",
       "6               2011    Suzanne Collins    98426   1.0\n",
       "7               2011  Laura Hillenbrand    29673   2.0\n",
       "8               2011   Kathryn Stockett    27742   3.0\n",
       "9               2012          E L James   105122   1.0\n",
       "10              2012    Suzanne Collins    98426   2.0\n",
       "11              2012      Gillian Flynn    57271   3.0\n",
       "12              2013      Gillian Flynn    57271   1.0\n",
       "13              2013         John Green    50482   2.0\n",
       "14              2013          E L James    47265   3.0\n",
       "15              2014         John Green   109455   1.0\n",
       "16              2014  Laura Hillenbrand    59346   2.0\n",
       "17              2014      Gillian Flynn    57271   3.0\n",
       "18              2015      Paula Hawkins    79446   1.0\n",
       "19              2015     Kristin Hannah    49288   2.0\n",
       "20              2015         Harper Lee    41216   3.0\n",
       "21              2016      Paula Hawkins    79446   1.0\n",
       "22              2016       J.K. Rowling    58017   2.0\n",
       "23              2016     Kristin Hannah    49288   3.0\n",
       "24              2017    Margaret Atwood    29442   1.0\n",
       "25              2017        Mark Manson    26490   2.0\n",
       "26              2017       Gary Chapman    25554   3.0\n",
       "27              2018     Michelle Obama    61133   1.0\n",
       "28              2018        Craig Smith    30183   2.0\n",
       "29              2018      Tara Westover    28729   3.0\n",
       "30              2019        Delia Owens    87841   1.0\n",
       "31              2019     Michelle Obama    61133   2.0\n",
       "32              2019        Craig Smith    30183   3.0"
      ]
     },
     "execution_count": 113,
     "metadata": {},
     "output_type": "execute_result"
    }
   ],
   "source": [
    "rev_by_yr = df.groupby([\"Publication Year\",\"Author\"])[\"Reviews\"].sum().reset_index()\n",
    "rev_by_yr[\"Rank\"] = rev_by_yr.groupby(\"Publication Year\")[\"Reviews\"].rank(method=\"dense\", ascending=False)\n",
    "\n",
    "ans20 = (\n",
    "    rev_by_yr[rev_by_yr[\"Rank\"] <= 3]\n",
    "    .sort_values([\"Publication Year\",\"Rank\",\"Author\"])\n",
    "    .reset_index(drop=True)\n",
    ")\n",
    "\n",
    "ans20"
   ]
  }
 ],
 "metadata": {
  "kernelspec": {
   "display_name": "Python 3",
   "language": "python",
   "name": "python3"
  },
  "language_info": {
   "codemirror_mode": {
    "name": "ipython",
    "version": 3
   },
   "file_extension": ".py",
   "mimetype": "text/x-python",
   "name": "python",
   "nbconvert_exporter": "python",
   "pygments_lexer": "ipython3",
   "version": "3.13.5"
  }
 },
 "nbformat": 4,
 "nbformat_minor": 5
}
